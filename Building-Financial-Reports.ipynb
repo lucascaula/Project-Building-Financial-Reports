{
 "cells": [
  {
   "cell_type": "markdown",
   "metadata": {},
   "source": [
    "Help your hedge fund manager!\n",
    "You have two datasets at your disposal: Balance_Sheet.xlsx and Income_Statement.xlsx. Both these datasets have three columns in common:\n",
    "\n",
    "\"Company\": The company's ticker name.\n",
    "\"comp_type\" The type of industry the company in question belongs to. It is either \"tech\" for companies in the technology industry, \"fmcg\" for companies in the fast-moving consumer goods industry, and \"real_est\" for companies in the real estate industry.\n",
    "\"Year\": The year the company's information is from.\n",
    "The rest of the columns in the datasets contain information from the financial statement of the \"Company\" in question. Note that the columns in Balance_Sheet.xlsx only contain financial information from the balance sheet. Similarly, the columns in Income_Statement.xlsx only contain financial information from the income statement. The columns are named accordingly. For instance, the column \"Total Liab\" from Balance_Sheet.xlsx is the total liability."
   ]
  },
  {
   "cell_type": "code",
   "execution_count": 3,
   "metadata": {},
   "outputs": [],
   "source": [
    "import numpy as np\n",
    "import pandas as pd\n",
    "import seaborn as sns"
   ]
  },
  {
   "cell_type": "code",
   "execution_count": 4,
   "metadata": {},
   "outputs": [],
   "source": [
    "# Reading data: importing excel files\n",
    "\n",
    "balance_sheet = pd.read_excel(\"/Users/lucascaula/Downloads/Projetos Programação/PYTHON/Project-Building-Financial-Reports/Balance_Sheet.xlsx\")\n",
    "income_statement = pd.read_excel(\"/Users/lucascaula/Downloads/Projetos Programação/PYTHON/Project-Building-Financial-Reports/Income_Statement.xlsx\")"
   ]
  },
  {
   "cell_type": "code",
   "execution_count": 5,
   "metadata": {},
   "outputs": [],
   "source": [
    "# Merging DataFrames\n",
    "df_ratios = pd.merge(balance_sheet,income_statement, on=[\"Year\", \"company\", \"comp_type\"])"
   ]
  },
  {
   "cell_type": "code",
   "execution_count": 26,
   "metadata": {},
   "outputs": [
    {
     "name": "stdout",
     "output_type": "stream",
     "text": [
      "Index(['Unnamed: 0_x', 'Year', 'comp_type', 'company', 'Accounts Payable',\n",
      "       'Cash', 'Inventory', 'Property Plant Equipment',\n",
      "       'Short Term Investments', 'Total Assets', 'Total Current Assets',\n",
      "       'Total Current Liabilities', 'Total Liab', 'Total Stockholder Equity',\n",
      "       'Unnamed: 0_y', 'Cost Of Goods Sold', 'Gross Profit',\n",
      "       'Operating Income', 'Total Operating Expenses', 'Total Revenue',\n",
      "       'leverage_ratio_debt_to_equity', 'leverage_ratio_equity_multiplier',\n",
      "       'profitability_ratio', 'profitability_ratio_gross_revenue',\n",
      "       'profitability_ratio_operating_margin'],\n",
      "      dtype='object')\n"
     ]
    }
   ],
   "source": [
    "print(df_ratios.columns)"
   ]
  },
  {
   "cell_type": "code",
   "execution_count": 27,
   "metadata": {},
   "outputs": [
    {
     "name": "stdout",
     "output_type": "stream",
     "text": [
      "   Unnamed: 0_x  Year comp_type company  Accounts Payable         Cash  \\\n",
      "0             0  2019      tech    AAPL       46236000000  48844000000   \n",
      "1             1  2020      tech    AAPL       42296000000  38016000000   \n",
      "2             2  2021      tech    AAPL       54763000000  34940000000   \n",
      "3             3  2022      tech    AAPL       64115000000  23646000000   \n",
      "4             4  2019      tech    MSFT        9382000000  11356000000   \n",
      "\n",
      "      Inventory  Property Plant Equipment  Short Term Investments  \\\n",
      "0  4.106000e+09               37378000000            5.171300e+10   \n",
      "1  4.061000e+09               45336000000            5.292700e+10   \n",
      "2  6.580000e+09               49527000000            2.769900e+10   \n",
      "3  4.946000e+09               84234000000            2.465800e+10   \n",
      "4  2.063000e+09               43856000000            1.224760e+11   \n",
      "\n",
      "   Total Assets  ...  Cost Of Goods Sold  Gross Profit  Operating Income  \\\n",
      "0  338516000000  ...        161782000000   98392000000       63930000000   \n",
      "1  323888000000  ...        169559000000  104956000000       66288000000   \n",
      "2  351002000000  ...        212981000000  152836000000      108949000000   \n",
      "3  352755000000  ...        223546000000  170782000000      119437000000   \n",
      "4  286556000000  ...         42910000000   82933000000       42959000000   \n",
      "\n",
      "   Total Operating Expenses  Total Revenue  leverage_ratio_debt_to_equity  \\\n",
      "0              196244000000   260174000000                       2.741004   \n",
      "1              208227000000   274515000000                       3.957039   \n",
      "2              256868000000   365817000000                       4.563512   \n",
      "3              274891000000   394328000000                       5.961537   \n",
      "4               82884000000   125843000000                       1.800313   \n",
      "\n",
      "   leverage_ratio_equity_multiplier  profitability_ratio  \\\n",
      "0                          3.741004             0.245720   \n",
      "1                          4.957039             0.241473   \n",
      "2                          5.563512             0.297824   \n",
      "3                          6.961537             0.302887   \n",
      "4                          2.800313             0.341370   \n",
      "\n",
      "   profitability_ratio_gross_revenue  profitability_ratio_operating_margin  \n",
      "0                           0.378178                              0.245720  \n",
      "1                           0.382332                              0.241473  \n",
      "2                           0.417794                              0.297824  \n",
      "3                           0.433096                              0.302887  \n",
      "4                           0.659020                              0.341370  \n",
      "\n",
      "[5 rows x 25 columns]\n"
     ]
    }
   ],
   "source": [
    "print(df_ratios.head(5))"
   ]
  },
  {
   "cell_type": "code",
   "execution_count": 6,
   "metadata": {},
   "outputs": [],
   "source": [
    "# debt-to-equity ratio: shows how much debt a company has compared to its assets ( Total debt / Total shareholder equity )\n",
    "df_ratios[\"leverage_ratio_debt_to_equity\"] = df_ratios[\"Total Liab\"]/df_ratios[\"Total Stockholder Equity\"]\n",
    "\n",
    "# equity multiplier ratio: measures the portion of the company's assets that are financed by equity ( Total assets / Total shareholder equity )\n",
    "df_ratios[\"leverage_ratio_equity_multiplier\"] = df_ratios[\"Total Assets\"]/df_ratios[\"Total Stockholder Equity\"]"
   ]
  },
  {
   "cell_type": "code",
   "execution_count": 9,
   "metadata": {},
   "outputs": [],
   "source": [
    "# gross revenue: measures a company's profitability by comparing its gross profit to its net sales ( Total Revenue - Cost Of Goods Sold / Total Revenue )\n",
    "df_ratios[\"profitability_ratio_gross_revenue\"] = (df_ratios[\"Total Revenue\"] - df_ratios[\"Cost Of Goods Sold\"])/df_ratios[\"Total Revenue\"]\n",
    "\n",
    "# operating margin ratio: also known as return on sales, measures revenue after the deduction of operating expenses ( Total Revenue - Total Operating Expenses / Total Revenue )\n",
    "df_ratios[\"profitability_ratio_operating_margin\"] = (df_ratios[\"Total Revenue\"] - df_ratios[\"Total Operating Expenses\"])/df_ratios[\"Total Revenue\"]"
   ]
  },
  {
   "cell_type": "code",
   "execution_count": 14,
   "metadata": {},
   "outputs": [
    {
     "name": "stdout",
     "output_type": "stream",
     "text": [
      "           profitability_ratio_gross_revenue\n",
      "comp_type                                   \n",
      "fmcg                                0.514396\n",
      "real_est                            0.534848\n",
      "tech                                0.572062\n",
      "           profitability_ratio_operating_margin\n",
      "comp_type                                      \n",
      "fmcg                                   0.207112\n",
      "real_est                               0.299938\n",
      "tech                                   0.273889\n",
      "\n",
      "The company type which has the lowest profitabily ratio is fmcg\n"
     ]
    }
   ],
   "source": [
    "# Which company type (comp_type) has the lowest profitability ratio?\n",
    "print(df_ratios.pivot_table(index=\"comp_type\", values=\"profitability_ratio_gross_revenue\"))\n",
    "lowest_profitability_by_gross_revenue = \"fmcg\"\n",
    "\n",
    "print(df_ratios.pivot_table(index=\"comp_type\", values=\"profitability_ratio_operating_margin\"))\n",
    "lowest_profitability_by_operating_margin = \"fmcg\"\n",
    "\n",
    "print(\"The company type which has the lowest profitabily ratio is fmcg\")"
   ]
  },
  {
   "cell_type": "code",
   "execution_count": 15,
   "metadata": {},
   "outputs": [
    {
     "name": "stdout",
     "output_type": "stream",
     "text": [
      "           leverage_ratio_debt_to_equity\n",
      "comp_type                               \n",
      "fmcg                            2.997896\n",
      "real_est                        5.692041\n",
      "tech                            1.777448\n",
      "           leverage_ratio_equity_multiplier\n",
      "comp_type                                  \n",
      "fmcg                               4.049784\n",
      "real_est                           7.353476\n",
      "tech                               2.777448\n"
     ]
    }
   ],
   "source": [
    "# Which company type has the highest leverage ratio?\n",
    "print(df_ratios.pivot_table(index=\"comp_type\", values=\"leverage_ratio_debt_to_equity\"))\n",
    "highest_leverage_by_debt_to_equity = \"real_est\"\n",
    "\n",
    "print(df_ratios.pivot_table(index=\"comp_type\", values=\"leverage_ratio_equity_multiplier\"))\n",
    "highest_leverage_by_equity_multiplier = \"real_est\"\n",
    "\n",
    "print(\"The company type which has the highest leverage ratio is real_est\")"
   ]
  },
  {
   "cell_type": "code",
   "execution_count": 19,
   "metadata": {},
   "outputs": [
    {
     "name": "stdout",
     "output_type": "stream",
     "text": [
      "positive\n"
     ]
    },
    {
     "data": {
      "image/png": "[encoded data removed]",
      "text/plain": [
       "<Figure size 640x480 with 1 Axes>"
      ]
     },
     "metadata": {},
     "output_type": "display_data"
    }
   ],
   "source": [
    "# What is the relationship between leverage and profitability in the real estate companies represented in this data? Is it \"positive,\" \"negative,\" or \"no relationship\"?\n",
    "df_real_est = df_ratios.loc[df_ratios[\"comp_type\"]==\"real_est\"]\n",
    "sns.regplot(data=df_real_est, x=\"leverage_ratio_debt_to_equity\", y=\"profitability_ratio_gross_revenue\")\n",
    "relationship = \"positive\"\n",
    "\n",
    "print(relationship)"
   ]
  }
 ],
 "metadata": {
  "kernelspec": {
   "display_name": "base",
   "language": "python",
   "name": "python3"
  },
  "language_info": {
   "codemirror_mode": {
    "name": "ipython",
    "version": 3
   },
   "file_extension": ".py",
   "mimetype": "text/x-python",
   "name": "python",
   "nbconvert_exporter": "python",
   "pygments_lexer": "ipython3",
   "version": "3.9.13"
  },
  "orig_nbformat": 4
 },
 "nbformat": 4,
 "nbformat_minor": 2
}
